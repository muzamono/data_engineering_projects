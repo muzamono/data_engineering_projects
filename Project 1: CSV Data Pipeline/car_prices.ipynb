{
 "cells": [
  {
   "cell_type": "code",
   "execution_count": null,
   "id": "29279638",
   "metadata": {},
   "outputs": [],
   "source": [
    "import pandas as pd\n",
    "\n",
    "from datetime import datetime\n",
    "\n",
    "# Load the csv files\n",
    "table = pd.read_csv('car_prices.csv')\n",
    "\n",
    "# Convert the 'saledate' column to datetime type (first remove the timezone part)\n",
    "table['saledate'] = table['saledate'].astype(str).str.replace(' (PST)', '')\n",
    "table['saledate'] = table['saledate'].astype(str).str.replace(' (PDT)', '')\n",
    "\n",
    "def parse_date(date_str):\n",
    "    try:\n",
    "        return datetime.strptime(date_str, '%a %b %d %Y %H:%M:%S %Z%z').strftime('%m/%d/%Y')\n",
    "    except ValueError:\n",
    "        return None  # or you can handle it as a different value\n",
    "\n",
    "# Find null item\n",
    "null_rows = table[table.isnull().any(axis=1)]\n",
    "\n",
    "# Drop the rows with null values\n",
    "table = table.dropna()\n",
    "\n",
    "# Convert saledate column to datetime type and apply parse_date function\n",
    "table['saledate'] = table['saledate'].apply(parse_date)\n",
    "table['saledate'] = pd.to_datetime(table['saledate'], errors='coerce')\n",
    "\n",
    "\n",
    "#Check if there is still any null items in the dataframe\n",
    "check_for_nulls = table.isnull().values.any()\n",
    "\n",
    "#Print the updated table\n",
    "table\n",
    "\n",
    "# Export to csv file for the output \n",
    "filename = 'output.csv'\n",
    "table.to_csv(filename, index=False)\n",
    "print(f\"The table is saved as '{filename}'.\")\n"
   ]
  }
 ],
 "metadata": {
  "kernelspec": {
   "display_name": "myenv",
   "language": "python",
   "name": "python3"
  },
  "language_info": {
   "codemirror_mode": {
    "name": "ipython",
    "version": 3
   },
   "file_extension": ".py",
   "mimetype": "text/x-python",
   "name": "python",
   "nbconvert_exporter": "python",
   "pygments_lexer": "ipython3",
   "version": "3.10.13"
  }
 },
 "nbformat": 4,
 "nbformat_minor": 5
}
