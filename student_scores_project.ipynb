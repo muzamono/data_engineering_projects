{
  "nbformat": 4,
  "nbformat_minor": 0,
  "metadata": {
    "colab": {
      "provenance": []
    },
    "kernelspec": {
      "name": "python3",
      "display_name": "Python 3"
    },
    "language_info": {
      "name": "python"
    }
  },
  "cells": [
    {
      "cell_type": "code",
      "source": [
        "# Create a CSV file with student scores\n",
        "data = \"\"\"Name,Math,Science,English\n",
        "Alice,88,90,95\n",
        "Bob,78,85,80\n",
        "Charlie,92,87,85\n",
        "David,65,70,72\n",
        "Eva,98,95,100\n",
        "\"\"\"\n",
        "\n",
        "# Write to a file in Colab\n",
        "with open(\"student_scores.csv\", \"w\") as file:\n",
        "    file.write(data)\n",
        "\n",
        "print(\"CSV file created!\")\n"
      ],
      "metadata": {
        "colab": {
          "base_uri": "https://localhost:8080/"
        },
        "id": "0wYsR2zf8Fed",
        "outputId": "cd4d5224-c3c5-423b-fa37-45a4973a41da"
      },
      "execution_count": 1,
      "outputs": [
        {
          "output_type": "stream",
          "name": "stdout",
          "text": [
            "CSV file created!\n"
          ]
        }
      ]
    },
    {
      "cell_type": "code",
      "source": [
        "import csv\n",
        "\n",
        "# Read CSV and calculate average scores\n",
        "students = []\n",
        "\n",
        "with open(\"student_scores.csv\", \"r\") as file:\n",
        "    reader = csv.DictReader(file)\n",
        "    for row in reader:\n",
        "        name = row[\"Name\"]\n",
        "        scores = [int(row[\"Math\"]), int(row[\"Science\"]), int(row[\"English\"])]\n",
        "        average = sum(scores) / len(scores)\n",
        "        students.append({\"Name\": name, \"Average\": round(average, 2)})\n",
        "\n",
        "# Preview result\n",
        "for student in students:\n",
        "    print(student)\n"
      ],
      "metadata": {
        "colab": {
          "base_uri": "https://localhost:8080/"
        },
        "id": "IPW9PWbO8Sqb",
        "outputId": "951c728d-3991-4dc4-ea5c-89ebf77c088e"
      },
      "execution_count": 2,
      "outputs": [
        {
          "output_type": "stream",
          "name": "stdout",
          "text": [
            "{'Name': 'Alice', 'Average': 91.0}\n",
            "{'Name': 'Bob', 'Average': 81.0}\n",
            "{'Name': 'Charlie', 'Average': 88.0}\n",
            "{'Name': 'David', 'Average': 69.0}\n",
            "{'Name': 'Eva', 'Average': 97.67}\n"
          ]
        }
      ]
    },
    {
      "cell_type": "code",
      "source": [
        "# Write averages to a new CSV\n",
        "with open(\"student_averages.csv\", \"w\", newline=\"\") as file:\n",
        "    writer = csv.DictWriter(file, fieldnames=[\"Name\", \"Average\"])\n",
        "    writer.writeheader()\n",
        "    writer.writerows(students)\n",
        "\n",
        "print(\"Averages written to student_averages.csv\")"
      ],
      "metadata": {
        "colab": {
          "base_uri": "https://localhost:8080/"
        },
        "id": "IQ1ua53E9sVq",
        "outputId": "a309f34c-61ae-4dc7-bf31-5a4580e2aa2f"
      },
      "execution_count": 3,
      "outputs": [
        {
          "output_type": "stream",
          "name": "stdout",
          "text": [
            "Averages written to student_averages.csv\n"
          ]
        }
      ]
    },
    {
      "cell_type": "code",
      "source": [
        "# Display contents of new CSV\n",
        "with open(\"student_averages.csv\", \"r\") as file:\n",
        "    print(file.read())"
      ],
      "metadata": {
        "colab": {
          "base_uri": "https://localhost:8080/"
        },
        "id": "Q4NGIPxR9umC",
        "outputId": "d581eef7-4b70-40ec-a783-c672f783296b"
      },
      "execution_count": 4,
      "outputs": [
        {
          "output_type": "stream",
          "name": "stdout",
          "text": [
            "Name,Average\n",
            "Alice,91.0\n",
            "Bob,81.0\n",
            "Charlie,88.0\n",
            "David,69.0\n",
            "Eva,97.67\n",
            "\n"
          ]
        }
      ]
    }
  ]
}